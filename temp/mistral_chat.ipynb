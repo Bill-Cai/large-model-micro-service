{
 "cells": [
  {
   "cell_type": "code",
   "execution_count": 1,
   "metadata": {
    "collapsed": true,
    "ExecuteTime": {
     "end_time": "2024-05-09T17:24:47.043320700Z",
     "start_time": "2024-05-09T17:24:44.643133200Z"
    }
   },
   "outputs": [],
   "source": [
    "from transformers import AutoModelForCausalLM, AutoTokenizer"
   ]
  },
  {
   "cell_type": "code",
   "execution_count": 2,
   "outputs": [
    {
     "data": {
      "text/plain": "Loading checkpoint shards:   0%|          | 0/3 [00:00<?, ?it/s]",
      "application/vnd.jupyter.widget-view+json": {
       "version_major": 2,
       "version_minor": 0,
       "model_id": "f5be61e197c84df191eb57008c9d271a"
      }
     },
     "metadata": {},
     "output_type": "display_data"
    }
   ],
   "source": [
    "model_id = \"/data/qm/huggingface/Mistral-7B-Instruct-v0.2/Mistral-7B-Instruct-v0.2\"\n",
    "\n",
    "model = AutoModelForCausalLM.from_pretrained(model_id, device_map=\"auto\")\n",
    "tokenizer = AutoTokenizer.from_pretrained(model_id)"
   ],
   "metadata": {
    "collapsed": false,
    "ExecuteTime": {
     "end_time": "2024-05-09T17:25:06.603689400Z",
     "start_time": "2024-05-09T17:24:48.215028700Z"
    }
   }
  },
  {
   "cell_type": "code",
   "execution_count": 3,
   "outputs": [
    {
     "name": "stderr",
     "output_type": "stream",
     "text": [
      "The attention mask and the pad token id were not set. As a consequence, you may observe unexpected behavior. Please pass your input's `attention_mask` to obtain reliable results.\n",
      "Setting `pad_token_id` to `eos_token_id`:2 for open-end generation.\n",
      "2024-05-10 01:25:52.710953: I tensorflow/core/platform/cpu_feature_guard.cc:210] This TensorFlow binary is optimized to use available CPU instructions in performance-critical operations.\n",
      "To enable the following instructions: AVX2 FMA, in other operations, rebuild TensorFlow with the appropriate compiler flags.\n",
      "2024-05-10 01:25:54.061976: W tensorflow/compiler/tf2tensorrt/utils/py_utils.cc:38] TF-TRT Warning: Could not find TensorRT\n"
     ]
    },
    {
     "data": {
      "text/plain": "\"<s> [INST] What is your favourite condiment? [/INST]Well, I'm quite partial to a good squeeze of fresh lemon juice. It adds just the right amount of zesty flavour to whatever I'm cooking up in the kitchen!</s> [INST] Do you have mayonnaise recipes? [/INST] Yes, I do have a simple and classic mayonnaise recipe for you! Here's what you'll need:\\n\\n* 1 egg yolk\\n* 1 teaspoon Dijon mustard\\n* 1 tablespoon white wine vinegar or fresh lemon juice\\n* 1 cup vegetable oil (canola or sunflower oil works well)\\n* Salt, to taste\\n\\nInstructions:\\n\\n1. In a medium-sized bowl, whisk\""
     },
     "execution_count": 3,
     "metadata": {},
     "output_type": "execute_result"
    }
   ],
   "source": [
    "messages = [\n",
    "    {\"role\": \"user\", \"content\": \"What is your favourite condiment?\"},\n",
    "    {\"role\": \"assistant\",\n",
    "     \"content\": \"Well, I'm quite partial to a good squeeze of fresh lemon juice. It adds just the right amount of zesty flavour to whatever I'm cooking up in the kitchen!\"},\n",
    "    {\"role\": \"user\", \"content\": \"Do you have mayonnaise recipes?\"}\n",
    "]\n",
    "\n",
    "model_inputs = tokenizer.apply_chat_template(messages, return_tensors=\"pt\").to(\"cuda\")\n",
    "generated_ids = model.generate(model_inputs, max_new_tokens=100, do_sample=True)\n",
    "tokenizer.batch_decode(generated_ids)[0]"
   ],
   "metadata": {
    "collapsed": false,
    "ExecuteTime": {
     "end_time": "2024-05-09T17:26:03.287057600Z",
     "start_time": "2024-05-09T17:25:51.675464700Z"
    }
   }
  },
  {
   "cell_type": "code",
   "execution_count": 5,
   "outputs": [
    {
     "name": "stderr",
     "output_type": "stream",
     "text": [
      "The attention mask and the pad token id were not set. As a consequence, you may observe unexpected behavior. Please pass your input's `attention_mask` to obtain reliable results.\n",
      "Setting `pad_token_id` to `eos_token_id`:2 for open-end generation.\n"
     ]
    }
   ],
   "source": [
    "prompt = '''\n",
    "Your goal is to split the task given below into a number of subtasks, with the required number of subtasks being no less than two and no more than five.\n",
    "Please return a JSON object.\n",
    "The original task and the paths to the files involved in the subtasks should be stored in \"File Information\".Each file should contain a \"file path\" field and a \"description\" field.\n",
    "The contents of the subtasks should be stored in \"Subtasks\".Each subtask should contain an 'id' field and a 'task description' field.\n",
    "\n",
    "For example,\n",
    "Task: I need to extract the water zone of XiHu district, only keep the water zone\n",
    "      the green band tif of XiHu district is in $GREEN_BAND_FILEPATH.\n",
    "      the nir band tif of XiHu district is in $NIR_BAND_FILEPATH.\n",
    "      please save the final result in $OUTPUT_PATH.\n",
    "\n",
    "Output:\n",
    "{{\n",
    "  \"Subtasks\":[\n",
    "    {{\n",
    "      \"id\": 1,\n",
    "      \"task description\": \"Calculate the ndwi of XiHu district.\"\n",
    "    }},\n",
    "    {{\n",
    "      \"id\": 2,\n",
    "      \"task description\": \"Extract the water zone.\"\n",
    "    }}\n",
    "  ],\n",
    "  \"File Information\":[\n",
    "    {{\n",
    "      \"file path\": \"$GREEN_BAND_FILEPATH\",\n",
    "      \"description\": \"the green band tif of XiHu district.\"\n",
    "    }},\n",
    "    {{\n",
    "      \"file path\": \"$NIR_BAND_FILEPATH\",\n",
    "      \"description\": \"the nir band tif of XiHu district.\"\n",
    "    }},\n",
    "    {{\n",
    "      \"file path\": \"$OUTPUT_PATH\",\n",
    "      \"description\": \"Used to save the final result.\"\n",
    "    }}\n",
    "  ]\n",
    "}}\n",
    "\n",
    "\n",
    "Task: There are road shapefile without time and speed information, administrative region shapefile without area imformation and hospitals point shapefile.\n",
    "  Please create service areas for tertiary hospitals within 0-20 minutes and 20-45 minutes driving distance\n",
    "  and Calculate the percentage of the total area covered by the service areas of top-tier hospitals within 0-20 minutes and 20-45 minutes in each administrative region.\n",
    "\n",
    "  Here is the data you will need:\n",
    "  shape_file_path='data/road.shp',\n",
    "  hospitals_path='data/hospitals.shp',\n",
    "  administrative_region_path='data/administrative.shp'.\n",
    "\n",
    "  The meaning of the 'fclass' field for main roads and the average vehicle speed are as follows:\n",
    "  motorway: 100km/h;\n",
    "  motoway_link: 40km/h;\n",
    "  trunk: 70km/h;\n",
    "  primary: 55km/h;\n",
    "  primary_link:40km/h;\n",
    "  secondary_link:40km/h;\n",
    "  trunk:40k5/h;\n",
    "  tertiary_link:40km/h;\n",
    "\n",
    "\n",
    "Begin!\n",
    "Describe your subtasks with rich details. Do not response anything unrelated to the subtask or file information.\n",
    "Remeber to ouput a JSON object.\n",
    "'''\n",
    "messages = [\n",
    "    {\"role\": \"user\", \"content\": prompt}\n",
    "]\n",
    "\n",
    "model_inputs = tokenizer.apply_chat_template(messages, return_tensors=\"pt\").to(\"cuda\")\n",
    "generated_ids = model.generate(model_inputs, max_new_tokens=2048, do_sample=True)\n",
    "result = tokenizer.batch_decode(generated_ids)[0]"
   ],
   "metadata": {
    "collapsed": false,
    "ExecuteTime": {
     "end_time": "2024-05-09T17:27:37.930555Z",
     "start_time": "2024-05-09T17:27:12.956258400Z"
    }
   }
  },
  {
   "cell_type": "code",
   "execution_count": 7,
   "outputs": [
    {
     "name": "stdout",
     "output_type": "stream",
     "text": [
      "<s> [INST] \n",
      "Your goal is to split the task given below into a number of subtasks, with the required number of subtasks being no less than two and no more than five.\n",
      "Please return a JSON object.\n",
      "The original task and the paths to the files involved in the subtasks should be stored in \"File Information\".Each file should contain a \"file path\" field and a \"description\" field.\n",
      "The contents of the subtasks should be stored in \"Subtasks\".Each subtask should contain an 'id' field and a 'task description' field.\n",
      "\n",
      "For example,\n",
      "Task: I need to extract the water zone of XiHu district, only keep the water zone\n",
      "      the green band tif of XiHu district is in $GREEN_BAND_FILEPATH.\n",
      "      the nir band tif of XiHu district is in $NIR_BAND_FILEPATH.\n",
      "      please save the final result in $OUTPUT_PATH.\n",
      "\n",
      "Output:\n",
      "{{\n",
      "  \"Subtasks\":[\n",
      "    {{\n",
      "      \"id\": 1,\n",
      "      \"task description\": \"Calculate the ndwi of XiHu district.\"\n",
      "    }},\n",
      "    {{\n",
      "      \"id\": 2,\n",
      "      \"task description\": \"Extract the water zone.\"\n",
      "    }}\n",
      "  ],\n",
      "  \"File Information\":[\n",
      "    {{\n",
      "      \"file path\": \"$GREEN_BAND_FILEPATH\",\n",
      "      \"description\": \"the green band tif of XiHu district.\"\n",
      "    }},\n",
      "    {{\n",
      "      \"file path\": \"$NIR_BAND_FILEPATH\",\n",
      "      \"description\": \"the nir band tif of XiHu district.\"\n",
      "    }},\n",
      "    {{\n",
      "      \"file path\": \"$OUTPUT_PATH\",\n",
      "      \"description\": \"Used to save the final result.\"\n",
      "    }}\n",
      "  ]\n",
      "}}\n",
      "\n",
      "\n",
      "Task: There are road shapefile without time and speed information, administrative region shapefile without area imformation and hospitals point shapefile.\n",
      "  Please create service areas for tertiary hospitals within 0-20 minutes and 20-45 minutes driving distance\n",
      "  and Calculate the percentage of the total area covered by the service areas of top-tier hospitals within 0-20 minutes and 20-45 minutes in each administrative region.\n",
      "\n",
      "  Here is the data you will need:\n",
      "  shape_file_path='data/road.shp',\n",
      "  hospitals_path='data/hospitals.shp',\n",
      "  administrative_region_path='data/administrative.shp'.\n",
      "\n",
      "  The meaning of the 'fclass' field for main roads and the average vehicle speed are as follows:\n",
      "  motorway: 100km/h;\n",
      "  motoway_link: 40km/h;\n",
      "  trunk: 70km/h;\n",
      "  primary: 55km/h;\n",
      "  primary_link:40km/h;\n",
      "  secondary_link:40km/h;\n",
      "  trunk:40k5/h;\n",
      "  tertiary_link:40km/h;\n",
      "\n",
      "\n",
      "Begin!\n",
      "Describe your subtasks with rich details. Do not response anything unrelated to the subtask or file information.\n",
      "Remeber to ouput a JSON object.\n",
      " [/INST] {\n",
      "  \"Subtasks\": [\n",
      "    {\n",
      "      \"id\": 1,\n",
      "      \"task description\": \"Calculate driving distances to hospitals from each road segment in the administrative regions.\"\n",
      "    },\n",
      "    {\n",
      "      \"id\": 2,\n",
      "      \"task description\": \"Identify and extract the tertiary hospitals shapefile.\"},\n",
      "    {\n",
      "      \"id\": 3,\n",
      "      \"task description\": \"Create service areas around each tertiary hospital using 0-20 minutes and 20-45 minutes driving distance.\"},\n",
      "    {\n",
      "      \"id\": 4,\n",
      "      \"task description\": \"Calculate the percentage of area covered by the service areas for each tertiary hospital in its respective administrative region.\"},\n",
      "    {\n",
      "      \"id\": 5,\n",
      "      \"task description\": \"Aggregate the percentage of area covered by each administrative region and output the results.\"\n",
      "    }\n",
      "  ],\n",
      "  \"File Information\": [\n",
      "    {\n",
      "      \"file path\": \"data/road.shp\",\n",
      "      \"description\": \"Shape file containing road information.\"\n",
      "    },\n",
      "    {\n",
      "      \"file path\": \"data/hospitals.shp\",\n",
      "      \"description\": \"Shape file containing hospitals data.\"\n",
      "    },\n",
      "    {\n",
      "      \"file path\": \"data/administrative.shp\",\n",
      "      \"description\": \"Shape file containing administrative region information.\"\n",
      "    }\n",
      "  ]\n",
      "}</s>\n"
     ]
    }
   ],
   "source": [
    "print(result)"
   ],
   "metadata": {
    "collapsed": false,
    "ExecuteTime": {
     "end_time": "2024-05-09T17:28:00.812266800Z",
     "start_time": "2024-05-09T17:28:00.802389600Z"
    }
   }
  },
  {
   "cell_type": "code",
   "execution_count": null,
   "outputs": [],
   "source": [],
   "metadata": {
    "collapsed": false
   }
  }
 ],
 "metadata": {
  "kernelspec": {
   "display_name": "Python 3",
   "language": "python",
   "name": "python3"
  },
  "language_info": {
   "codemirror_mode": {
    "name": "ipython",
    "version": 2
   },
   "file_extension": ".py",
   "mimetype": "text/x-python",
   "name": "python",
   "nbconvert_exporter": "python",
   "pygments_lexer": "ipython2",
   "version": "2.7.6"
  }
 },
 "nbformat": 4,
 "nbformat_minor": 0
}
