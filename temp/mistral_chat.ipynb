{
 "cells": [
  {
   "cell_type": "code",
   "execution_count": 1,
   "metadata": {
    "collapsed": true
   },
   "outputs": [],
   "source": [
    "from transformers import AutoModelForCausalLM, AutoTokenizer"
   ]
  },
  {
   "cell_type": "code",
   "execution_count": 2,
   "outputs": [
    {
     "data": {
      "text/plain": "Loading checkpoint shards:   0%|          | 0/3 [00:00<?, ?it/s]",
      "application/vnd.jupyter.widget-view+json": {
       "version_major": 2,
       "version_minor": 0,
       "model_id": "9c268a6765a541a9abed2cdf3b73eebf"
      }
     },
     "metadata": {},
     "output_type": "display_data"
    }
   ],
   "source": [
    "model_id = \"/data/qm/huggingface/Mistral-7B-Instruct-v0.2/Mistral-7B-Instruct-v0.2\"\n",
    "\n",
    "model = AutoModelForCausalLM.from_pretrained(model_id, device_map=\"auto\")\n",
    "tokenizer = AutoTokenizer.from_pretrained(model_id)"
   ],
   "metadata": {
    "collapsed": false,
    "ExecuteTime": {
     "end_time": "2024-05-10T06:37:50.155498900Z",
     "start_time": "2024-05-10T06:37:32.655177200Z"
    }
   }
  },
  {
   "cell_type": "code",
   "execution_count": 6,
   "outputs": [
    {
     "data": {
      "text/plain": "device(type='cuda', index=0)"
     },
     "execution_count": 6,
     "metadata": {},
     "output_type": "execute_result"
    }
   ],
   "source": [
    "# 查看 model 加载在什么设备上\n",
    "model.device"
   ],
   "metadata": {
    "collapsed": false,
    "ExecuteTime": {
     "end_time": "2024-05-10T06:43:35.293804Z",
     "start_time": "2024-05-10T06:43:35.292802800Z"
    }
   }
  },
  {
   "cell_type": "code",
   "execution_count": 7,
   "outputs": [
    {
     "name": "stderr",
     "output_type": "stream",
     "text": [
      "The attention mask and the pad token id were not set. As a consequence, you may observe unexpected behavior. Please pass your input's `attention_mask` to obtain reliable results.\n",
      "Setting `pad_token_id` to `eos_token_id`:2 for open-end generation.\n",
      "2024-05-10 14:47:01.635752: I tensorflow/core/platform/cpu_feature_guard.cc:210] This TensorFlow binary is optimized to use available CPU instructions in performance-critical operations.\n",
      "To enable the following instructions: AVX2 FMA, in other operations, rebuild TensorFlow with the appropriate compiler flags.\n",
      "2024-05-10 14:47:02.640161: W tensorflow/compiler/tf2tensorrt/utils/py_utils.cc:38] TF-TRT Warning: Could not find TensorRT\n"
     ]
    },
    {
     "data": {
      "text/plain": "\"<s> [INST] What is your favourite condiment? [/INST]Well, I'm quite partial to a good squeeze of fresh lemon juice. It adds just the right amount of zesty flavour to whatever I'm cooking up in the kitchen!</s> [INST] Do you have mayonnaise recipes? [/INST] Yes, I can certainly help you with a simple and classic mayonnaise recipe. Here's what you'll need:\\n\\n* 1 egg yolk\\n* 1 teaspoon Dijon mustard\\n* 1 cup vegetable oil (canola, safflower, or other neutral oil)\\n* 1-2 tablespoons white wine vinegar or lemon juice\\n* Salt to taste\\n\\nInstructions:\\n1. In a medium bowl,\""
     },
     "execution_count": 7,
     "metadata": {},
     "output_type": "execute_result"
    }
   ],
   "source": [
    "messages = [\n",
    "    {\"role\": \"user\", \"content\": \"What is your favourite condiment?\"},\n",
    "    {\"role\": \"assistant\",\n",
    "     \"content\": \"Well, I'm quite partial to a good squeeze of fresh lemon juice. It adds just the right amount of zesty flavour to whatever I'm cooking up in the kitchen!\"},\n",
    "    {\"role\": \"user\", \"content\": \"Do you have mayonnaise recipes?\"}\n",
    "]\n",
    "\n",
    "model_inputs = tokenizer.apply_chat_template(messages, return_tensors=\"pt\").to(\"cuda\")\n",
    "generated_ids = model.generate(model_inputs, max_new_tokens=100, do_sample=True,\n",
    "                               temperature=0.7, top_k=50,\n",
    "                               top_p=0.95)\n",
    "tokenizer.batch_decode(generated_ids)[0]"
   ],
   "metadata": {
    "collapsed": false,
    "ExecuteTime": {
     "end_time": "2024-05-10T06:47:13.028481600Z",
     "start_time": "2024-05-10T06:47:01.739985300Z"
    }
   }
  },
  {
   "cell_type": "code",
   "execution_count": 9,
   "outputs": [
    {
     "name": "stderr",
     "output_type": "stream",
     "text": [
      "/root/anaconda3/envs/py311-llama2-qm/lib/python3.11/site-packages/transformers/generation/configuration_utils.py:392: UserWarning: `do_sample` is set to `False`. However, `temperature` is set to `0.0` -- this flag is only used in sample-based generation modes. You should set `do_sample=True` or unset `temperature`.\n",
      "  warnings.warn(\n",
      "The attention mask and the pad token id were not set. As a consequence, you may observe unexpected behavior. Please pass your input's `attention_mask` to obtain reliable results.\n",
      "Setting `pad_token_id` to `eos_token_id`:2 for open-end generation.\n"
     ]
    }
   ],
   "source": [
    "prompt = '''\n",
    "Your goal is to split the task given below into a number of subtasks, with the required number of subtasks being no less than two and no more than five.\n",
    "Please return a JSON object.\n",
    "The original task and the paths to the files involved in the subtasks should be stored in \"File Information\".Each file should contain a \"file path\" field and a \"description\" field.\n",
    "The contents of the subtasks should be stored in \"Subtasks\".Each subtask should contain an 'id' field and a 'task description' field.\n",
    "\n",
    "For example,\n",
    "Task: I need to extract the water zone of XiHu district, only keep the water zone\n",
    "      the green band tif of XiHu district is in $GREEN_BAND_FILEPATH.\n",
    "      the nir band tif of XiHu district is in $NIR_BAND_FILEPATH.\n",
    "      please save the final result in $OUTPUT_PATH.\n",
    "\n",
    "Output:\n",
    "{{\n",
    "  \"Subtasks\":[\n",
    "    {{\n",
    "      \"id\": 1,\n",
    "      \"task description\": \"Calculate the ndwi of XiHu district.\"\n",
    "    }},\n",
    "    {{\n",
    "      \"id\": 2,\n",
    "      \"task description\": \"Extract the water zone.\"\n",
    "    }}\n",
    "  ],\n",
    "  \"File Information\":[\n",
    "    {{\n",
    "      \"file path\": \"$GREEN_BAND_FILEPATH\",\n",
    "      \"description\": \"the green band tif of XiHu district.\"\n",
    "    }},\n",
    "    {{\n",
    "      \"file path\": \"$NIR_BAND_FILEPATH\",\n",
    "      \"description\": \"the nir band tif of XiHu district.\"\n",
    "    }},\n",
    "    {{\n",
    "      \"file path\": \"$OUTPUT_PATH\",\n",
    "      \"description\": \"Used to save the final result.\"\n",
    "    }}\n",
    "  ]\n",
    "}}\n",
    "\n",
    "\n",
    "Task: There are road shapefile without time and speed information, administrative region shapefile without area imformation and hospitals point shapefile.\n",
    "  Please create service areas for tertiary hospitals within 0-20 minutes and 20-45 minutes driving distance\n",
    "  and Calculate the percentage of the total area covered by the service areas of top-tier hospitals within 0-20 minutes and 20-45 minutes in each administrative region.\n",
    "\n",
    "  Here is the data you will need:\n",
    "  shape_file_path='data/road.shp',\n",
    "  hospitals_path='data/hospitals.shp',\n",
    "  administrative_region_path='data/administrative.shp'.\n",
    "\n",
    "  The meaning of the 'fclass' field for main roads and the average vehicle speed are as follows:\n",
    "  motorway: 100km/h;\n",
    "  motoway_link: 40km/h;\n",
    "  trunk: 70km/h;\n",
    "  primary: 55km/h;\n",
    "  primary_link:40km/h;\n",
    "  secondary_link:40km/h;\n",
    "  trunk:40k5/h;\n",
    "  tertiary_link:40km/h;\n",
    "\n",
    "\n",
    "Begin!\n",
    "Describe your subtasks with rich details. Do not response anything unrelated to the subtask or file information.\n",
    "Remeber to ouput a JSON object.\n",
    "'''\n",
    "messages = [\n",
    "    {\"role\": \"user\", \"content\": '''\n",
    "Your goal is to split the task given below into a number of subtasks, with the required number of subtasks being no less than two and no more than five.\n",
    "The original task and the paths to the files involved in the subtasks should be stored in \"File Information\".Each file should contain a \"file path\" field and a \"description\" field.\n",
    "The contents of the subtasks should be stored in \"Subtasks\". Each subtask should contain an 'id' field and a 'task description' field.\n",
    "Please return a JSON object.\n",
    "\n",
    "Task: I need to extract the water zone of XiHu district, only keep the water zone\n",
    "      the green band tif of XiHu district is in $GREEN_BAND_FILEPATH.\n",
    "      the nir band tif of XiHu district is in $NIR_BAND_FILEPATH.\n",
    "      please save the final result in $OUTPUT_PATH.\n",
    "'''},\n",
    "    {\"role\": \"assistant\", \"content\": '''\n",
    "Output:\n",
    "{{\n",
    "  \"Subtasks\":[\n",
    "    {{\n",
    "      \"id\": 1,\n",
    "      \"task description\": \"Calculate the ndwi of XiHu district.\"\n",
    "    }},\n",
    "    {{\n",
    "      \"id\": 2,\n",
    "      \"task description\": \"Extract the water zone.\"\n",
    "    }}\n",
    "  ],\n",
    "  \"File Information\":[\n",
    "    {{\n",
    "      \"file path\": \"$GREEN_BAND_FILEPATH\",\n",
    "      \"description\": \"the green band tif of XiHu district.\"\n",
    "    }},\n",
    "    {{\n",
    "      \"file path\": \"$NIR_BAND_FILEPATH\",\n",
    "      \"description\": \"the nir band tif of XiHu district.\"\n",
    "    }},\n",
    "    {{\n",
    "      \"file path\": \"$OUTPUT_PATH\",\n",
    "      \"description\": \"Used to save the final result.\"\n",
    "    }}\n",
    "  ]\n",
    "}}\n",
    "'''},\n",
    "    {\"role\": \"user\", \"content\": '''\n",
    "Task: There are road shapefile without time and speed information, administrative region shapefile without area imformation and hospitals point shapefile.\n",
    "  Please create service areas for tertiary hospitals within 0-20 minutes and 20-45 minutes driving distance\n",
    "  and Calculate the percentage of the total area covered by the service areas of top-tier hospitals within 0-20 minutes and 20-45 minutes in each administrative region.\n",
    "\n",
    "  Here is the data you will need:\n",
    "  shape_file_path='data/road.shp',\n",
    "  hospitals_path='data/hospitals.shp',\n",
    "  administrative_region_path='data/administrative.shp'.\n",
    "\n",
    "  The meaning of the 'fclass' field for main roads and the average vehicle speed are as follows:\n",
    "  motorway: 100km/h;\n",
    "  motoway_link: 40km/h;\n",
    "  trunk: 70km/h;\n",
    "  primary: 55km/h;\n",
    "  primary_link:40km/h;\n",
    "  secondary_link:40km/h;\n",
    "  trunk:40k5/h;\n",
    "  tertiary_link:40km/h;\n",
    "\n",
    "\n",
    "Begin!\n",
    "Describe your subtasks with rich details. Do not response anything unrelated to the subtask or file information.\n",
    "Remeber to ouput a JSON object.\n",
    "'''},\n",
    "]\n",
    "\n",
    "model_inputs = tokenizer.apply_chat_template(messages, return_tensors=\"pt\").to(\"cuda\")\n",
    "generated_ids = model.generate(model_inputs, max_new_tokens=2048, temperature=0.0)\n",
    "result = tokenizer.batch_decode(generated_ids)[0]"
   ],
   "metadata": {
    "collapsed": false,
    "ExecuteTime": {
     "end_time": "2024-05-10T05:26:53.049675400Z",
     "start_time": "2024-05-10T05:26:25.234903800Z"
    }
   }
  },
  {
   "cell_type": "code",
   "execution_count": 10,
   "outputs": [
    {
     "data": {
      "text/plain": "['<s> [INST] \\nYour goal is to split the task given below into a number of subtasks, with the required number of subtasks being no less than two and no more than five.\\nThe original task and the paths to the files involved in the subtasks should be stored in \"File Information\".Each file should contain a \"file path\" field and a \"description\" field.\\nThe contents of the subtasks should be stored in \"Subtasks\". Each subtask should contain an \\'id\\' field and a \\'task description\\' field.\\nPlease return a JSON object.\\n\\nTask: I need to extract the water zone of XiHu district, only keep the water zone\\n      the green band tif of XiHu district is in $GREEN_BAND_FILEPATH.\\n      the nir band tif of XiHu district is in $NIR_BAND_FILEPATH.\\n      please save the final result in $OUTPUT_PATH.\\n [/INST]\\nOutput:\\n{{\\n  \"Subtasks\":[\\n    {{\\n      \"id\": 1,\\n      \"task description\": \"Calculate the ndwi of XiHu district.\"\\n    }},\\n    {{\\n      \"id\": 2,\\n      \"task description\": \"Extract the water zone.\"\\n    }}\\n  ],\\n  \"File Information\":[\\n    {{\\n      \"file path\": \"$GREEN_BAND_FILEPATH\",\\n      \"description\": \"the green band tif of XiHu district.\"\\n    }},\\n    {{\\n      \"file path\": \"$NIR_BAND_FILEPATH\",\\n      \"description\": \"the nir band tif of XiHu district.\"\\n    }},\\n    {{\\n      \"file path\": \"$OUTPUT_PATH\",\\n      \"description\": \"Used to save the final result.\"\\n    }}\\n  ]\\n}}\\n</s> [INST] \\nTask: There are road shapefile without time and speed information, administrative region shapefile without area imformation and hospitals point shapefile.\\n  Please create service areas for tertiary hospitals within 0-20 minutes and 20-45 minutes driving distance\\n  and Calculate the percentage of the total area covered by the service areas of top-tier hospitals within 0-20 minutes and 20-45 minutes in each administrative region.\\n\\n  Here is the data you will need:\\n  shape_file_path=\\'data/road.shp\\',\\n  hospitals_path=\\'data/hospitals.shp\\',\\n  administrative_region_path=\\'data/administrative.shp\\'.\\n\\n  The meaning of the \\'fclass\\' field for main roads and the average vehicle speed are as follows:\\n  motorway: 100km/h;\\n  motoway_link: 40km/h;\\n  trunk: 70km/h;\\n  primary: 55km/h;\\n  primary_link:40km/h;\\n  secondary_link:40km/h;\\n  trunk:40k5/h;\\n  tertiary_link:40km/h;\\n\\n\\nBegin!\\nDescribe your subtasks with rich details. Do not response anything unrelated to the subtask or file information.\\nRemeber to ouput a JSON object.\\n [/INST] Output:\\n{\\n  \"Subtasks\": [\\n    {\\n      \"id\": 1,\\n      \"task description\": \"Calculate driving distances from hospitals to administrative regions using road network.\"\\n    },\\n    {\\n      \"id\": 2,\\n      \"task description\": \"Identify top-tier hospitals based on their administrative region.\"\\n    },\\n    {\\n      \"id\": 3,\\n      \"task description\": \"Create service areas for top-tier hospitals within 0-20 minutes driving distance.\"\\n    },\\n    {\\n      \"id\": 4,\\n      \"task description\": \"Create service areas for top-tier hospitals within 20-45 minutes driving distance.\"\\n    },\\n    {\\n      \"id\": 5,\\n      \"task description\": \"Calculate the percentage of the total area covered by the service areas of top-tier hospitals within 0-20 minutes and 20-45 minutes in each administrative region.\"\\n    }\\n  ],\\n  \"File Information\": [\\n    {\\n      \"file path\": \"data/road.shp\",\\n      \"description\": \"shape file for roads with fclass information.\"\\n    },\\n    {\\n      \"file path\": \"data/hospitals.shp\",\\n      \"description\": \"point shapefile for hospitals.\"\\n    },\\n    {\\n      \"file path\": \"data/administrative.shp\",\\n      \"description\": \"shape file for administrative regions.\"\\n    }\\n  ]\\n}\\n\\nNote: The driving distance calculation and service area creation will require additional libraries or tools, such as NetworkX or ArcGIS, depending on the preferred programming language or GIS software.</s>']"
     },
     "execution_count": 10,
     "metadata": {},
     "output_type": "execute_result"
    }
   ],
   "source": [
    "decode_result = tokenizer.batch_decode(generated_ids)\n",
    "decode_result"
   ],
   "metadata": {
    "collapsed": false,
    "ExecuteTime": {
     "end_time": "2024-05-10T05:26:54.322011100Z",
     "start_time": "2024-05-10T05:26:54.291002500Z"
    }
   }
  },
  {
   "cell_type": "code",
   "execution_count": 11,
   "outputs": [
    {
     "name": "stdout",
     "output_type": "stream",
     "text": [
      "<s> [INST] \n",
      "Your goal is to split the task given below into a number of subtasks, with the required number of subtasks being no less than two and no more than five.\n",
      "The original task and the paths to the files involved in the subtasks should be stored in \"File Information\".Each file should contain a \"file path\" field and a \"description\" field.\n",
      "The contents of the subtasks should be stored in \"Subtasks\". Each subtask should contain an 'id' field and a 'task description' field.\n",
      "Please return a JSON object.\n",
      "\n",
      "Task: I need to extract the water zone of XiHu district, only keep the water zone\n",
      "      the green band tif of XiHu district is in $GREEN_BAND_FILEPATH.\n",
      "      the nir band tif of XiHu district is in $NIR_BAND_FILEPATH.\n",
      "      please save the final result in $OUTPUT_PATH.\n",
      " [/INST]\n",
      "Output:\n",
      "{{\n",
      "  \"Subtasks\":[\n",
      "    {{\n",
      "      \"id\": 1,\n",
      "      \"task description\": \"Calculate the ndwi of XiHu district.\"\n",
      "    }},\n",
      "    {{\n",
      "      \"id\": 2,\n",
      "      \"task description\": \"Extract the water zone.\"\n",
      "    }}\n",
      "  ],\n",
      "  \"File Information\":[\n",
      "    {{\n",
      "      \"file path\": \"$GREEN_BAND_FILEPATH\",\n",
      "      \"description\": \"the green band tif of XiHu district.\"\n",
      "    }},\n",
      "    {{\n",
      "      \"file path\": \"$NIR_BAND_FILEPATH\",\n",
      "      \"description\": \"the nir band tif of XiHu district.\"\n",
      "    }},\n",
      "    {{\n",
      "      \"file path\": \"$OUTPUT_PATH\",\n",
      "      \"description\": \"Used to save the final result.\"\n",
      "    }}\n",
      "  ]\n",
      "}}\n",
      "</s> [INST] \n",
      "Task: There are road shapefile without time and speed information, administrative region shapefile without area imformation and hospitals point shapefile.\n",
      "  Please create service areas for tertiary hospitals within 0-20 minutes and 20-45 minutes driving distance\n",
      "  and Calculate the percentage of the total area covered by the service areas of top-tier hospitals within 0-20 minutes and 20-45 minutes in each administrative region.\n",
      "\n",
      "  Here is the data you will need:\n",
      "  shape_file_path='data/road.shp',\n",
      "  hospitals_path='data/hospitals.shp',\n",
      "  administrative_region_path='data/administrative.shp'.\n",
      "\n",
      "  The meaning of the 'fclass' field for main roads and the average vehicle speed are as follows:\n",
      "  motorway: 100km/h;\n",
      "  motoway_link: 40km/h;\n",
      "  trunk: 70km/h;\n",
      "  primary: 55km/h;\n",
      "  primary_link:40km/h;\n",
      "  secondary_link:40km/h;\n",
      "  trunk:40k5/h;\n",
      "  tertiary_link:40km/h;\n",
      "\n",
      "\n",
      "Begin!\n",
      "Describe your subtasks with rich details. Do not response anything unrelated to the subtask or file information.\n",
      "Remeber to ouput a JSON object.\n",
      " [/INST] Output:\n",
      "{\n",
      "  \"Subtasks\": [\n",
      "    {\n",
      "      \"id\": 1,\n",
      "      \"task description\": \"Calculate driving distances from hospitals to administrative regions using road network.\"\n",
      "    },\n",
      "    {\n",
      "      \"id\": 2,\n",
      "      \"task description\": \"Identify top-tier hospitals based on their administrative region.\"\n",
      "    },\n",
      "    {\n",
      "      \"id\": 3,\n",
      "      \"task description\": \"Create service areas for top-tier hospitals within 0-20 minutes driving distance.\"\n",
      "    },\n",
      "    {\n",
      "      \"id\": 4,\n",
      "      \"task description\": \"Create service areas for top-tier hospitals within 20-45 minutes driving distance.\"\n",
      "    },\n",
      "    {\n",
      "      \"id\": 5,\n",
      "      \"task description\": \"Calculate the percentage of the total area covered by the service areas of top-tier hospitals within 0-20 minutes and 20-45 minutes in each administrative region.\"\n",
      "    }\n",
      "  ],\n",
      "  \"File Information\": [\n",
      "    {\n",
      "      \"file path\": \"data/road.shp\",\n",
      "      \"description\": \"shape file for roads with fclass information.\"\n",
      "    },\n",
      "    {\n",
      "      \"file path\": \"data/hospitals.shp\",\n",
      "      \"description\": \"point shapefile for hospitals.\"\n",
      "    },\n",
      "    {\n",
      "      \"file path\": \"data/administrative.shp\",\n",
      "      \"description\": \"shape file for administrative regions.\"\n",
      "    }\n",
      "  ]\n",
      "}\n",
      "\n",
      "Note: The driving distance calculation and service area creation will require additional libraries or tools, such as NetworkX or ArcGIS, depending on the preferred programming language or GIS software.</s>\n"
     ]
    }
   ],
   "source": [
    "print(result)"
   ],
   "metadata": {
    "collapsed": false,
    "ExecuteTime": {
     "end_time": "2024-05-10T05:26:56.090620900Z",
     "start_time": "2024-05-10T05:26:56.057621Z"
    }
   }
  },
  {
   "cell_type": "code",
   "execution_count": null,
   "outputs": [],
   "source": [],
   "metadata": {
    "collapsed": false
   }
  }
 ],
 "metadata": {
  "kernelspec": {
   "display_name": "Python 3",
   "language": "python",
   "name": "python3"
  },
  "language_info": {
   "codemirror_mode": {
    "name": "ipython",
    "version": 2
   },
   "file_extension": ".py",
   "mimetype": "text/x-python",
   "name": "python",
   "nbconvert_exporter": "python",
   "pygments_lexer": "ipython2",
   "version": "2.7.6"
  }
 },
 "nbformat": 4,
 "nbformat_minor": 0
}
