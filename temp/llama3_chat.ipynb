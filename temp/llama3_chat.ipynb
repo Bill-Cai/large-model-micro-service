{
 "cells": [
  {
   "cell_type": "code",
   "execution_count": 1,
   "metadata": {
    "collapsed": true,
    "ExecuteTime": {
     "end_time": "2024-06-26T01:40:13.185107600Z",
     "start_time": "2024-06-26T01:40:13.065677400Z"
    }
   },
   "outputs": [
    {
     "name": "stdout",
     "output_type": "stream",
     "text": [
      "/home/qm\r\n"
     ]
    }
   ],
   "source": [
    "!pwd"
   ]
  },
  {
   "cell_type": "code",
   "execution_count": 2,
   "outputs": [],
   "source": [
    "import torch\n",
    "import transformers\n",
    "from transformers import (\n",
    "    AutoModelForCausalLM,\n",
    "    AutoTokenizer,\n",
    "    BitsAndBytesConfig\n",
    ")"
   ],
   "metadata": {
    "collapsed": false,
    "ExecuteTime": {
     "end_time": "2024-06-26T01:40:15.904088Z",
     "start_time": "2024-06-26T01:40:13.809823400Z"
    }
   }
  },
  {
   "cell_type": "code",
   "execution_count": 3,
   "outputs": [
    {
     "data": {
      "text/plain": "Loading checkpoint shards:   0%|          | 0/4 [00:00<?, ?it/s]",
      "application/vnd.jupyter.widget-view+json": {
       "version_major": 2,
       "version_minor": 0,
       "model_id": "d773bd44373c4f1b90b235c5f9e32349"
      }
     },
     "metadata": {},
     "output_type": "display_data"
    },
    {
     "name": "stderr",
     "output_type": "stream",
     "text": [
      "Special tokens have been added in the vocabulary, make sure the associated word embeddings are fine-tuned or trained.\n"
     ]
    }
   ],
   "source": [
    "model_id = \"/data/qm/huggingface/Meta-Llama-3-8B-Instruct\"\n",
    "\n",
    "device_map = \"auto\"\n",
    "bnb_config = BitsAndBytesConfig(\n",
    "    load_in_4bit=True,\n",
    "    bnb_4bit_use_double_quant=True,\n",
    "    bnb_4bit_quant_type=\"nf4\",\n",
    "    bnb_4bit_compute_dtype=torch.bfloat16\n",
    ")\n",
    "\n",
    "# load model from huggingface\n",
    "model = AutoModelForCausalLM.from_pretrained(\n",
    "    model_id,\n",
    "    quantization_config=bnb_config,\n",
    "    use_cache=True,\n",
    "    device_map=device_map\n",
    ")\n",
    "\n",
    "# load tokenizer from huggingface\n",
    "tokenizer = AutoTokenizer.from_pretrained(model_id)\n",
    "tokenizer.pad_token = tokenizer.eos_token\n",
    "tokenizer.padding_side = \"right\""
   ],
   "metadata": {
    "collapsed": false,
    "ExecuteTime": {
     "end_time": "2024-06-26T01:40:29.886361900Z",
     "start_time": "2024-06-26T01:40:16.619597600Z"
    }
   }
  },
  {
   "cell_type": "code",
   "execution_count": 4,
   "outputs": [
    {
     "name": "stderr",
     "output_type": "stream",
     "text": [
      "The attention mask and the pad token id were not set. As a consequence, you may observe unexpected behavior. Please pass your input's `attention_mask` to obtain reliable results.\n",
      "Setting `pad_token_id` to `eos_token_id`:128001 for open-end generation.\n",
      "2024-06-26 09:40:54.985804: I tensorflow/core/platform/cpu_feature_guard.cc:210] This TensorFlow binary is optimized to use available CPU instructions in performance-critical operations.\n",
      "To enable the following instructions: AVX2 FMA, in other operations, rebuild TensorFlow with the appropriate compiler flags.\n",
      "2024-06-26 09:40:56.038531: W tensorflow/compiler/tf2tensorrt/utils/py_utils.cc:38] TF-TRT Warning: Could not find TensorRT\n"
     ]
    },
    {
     "name": "stdout",
     "output_type": "stream",
     "text": [
      "['<|begin_of_text|><|start_header_id|>system<|end_header_id|>\\n\\nYou are a friendly chatbot, always able to provide friendly and helpful answers.<|eot_id|><|start_header_id|>user<|end_header_id|>\\n\\nWhat athlete from the 1992 U.S. Olympic \\'Dream Team\\' had a role in the movie \\'Space Jam\\'?<|eot_id|><|start_header_id|>assistant<|end_header_id|>\\n\\nThe athlete from the 1992 U.S. Olympic \\'Dream Team\\' who had a role in the movie \\'Space Jam\\' is Michael Jordan. He played the role of the basketball player \"Lucas North\" in the film, which was released in 1996. The movie was based on a fictional basketball team called the \"Space Jam,\" which was created by Warner Bros. And NBC Universal for the release of the basketball movie \"Space Jam\" in 1996.<|eot_id|><|start_header_id|>user<|end_header_id|>\\n\\nCan you give me more information about that?<|eot_id|><|start_header_id|>assistant<|end_header_id|>\\n\\nMichael Jordan\\'s role in Space Jam was a significant one. In the movie, he plays the character of \"Lucky\" Lofton, not Lucas North. Lucky is a fictionalized version of himself, a retired basketball player who is lured back to the court by Looney Tunes characters Bugs Bunny and Daffy Duck.\\n\\nThe movie follows the story of a group of Looney Tunes characters who are threatened by a group of aliens who are stealing their talents. The aliens, led by Mr. Swackhammer, are using the stolen talents to power their amusement park, Moron Mountain. The Looney Tunes characters band together to stop the aliens and find a way to get their talents back.\\n\\nMichael Jordan\\'s character, Lucky Lofton, is a retired basketball star who is recruited by the Looney Tunes to help them defeat the aliens. He forms a team with the Looney Tunes characters, including Bugs Bunny, Daffy Duck, and others, to take on the aliens in a high-stakes basketball game.\\n\\nThe movie was a commercial success and received generally positive reviews from critics. It\\'s considered a nostalgic classic among many who grew up in the 1990s, and it\\'s still enjoyed today for its blend of humor, basketball action, and Looney Tunes charm.<|eot_id|>']\n"
     ]
    }
   ],
   "source": [
    "messages = [\n",
    "    {\n",
    "        \"role\": \"system\",\n",
    "        \"content\": \"You are a friendly chatbot, always able to provide friendly and helpful answers.\"\n",
    "    },\n",
    "    {\n",
    "        \"role\": \"user\",\n",
    "        \"content\": \"What athlete from the 1992 U.S. Olympic 'Dream Team' had a role in the movie 'Space Jam'?\"\n",
    "    },\n",
    "    {\n",
    "        \"role\": \"assistant\",\n",
    "        \"content\": \"The athlete from the 1992 U.S. Olympic 'Dream Team' who had a role in the movie 'Space Jam' is Michael Jordan. He played the role of the basketball player \\\"Lucas North\\\" in the film, which was released in 1996. The movie was based on a fictional basketball team called the \\\"Space Jam,\\\" which was created by Warner Bros. And NBC Universal for the release of the basketball movie \\\"Space Jam\\\" in 1996.\"\n",
    "    },\n",
    "    {\n",
    "        \"role\": \"user\",\n",
    "        \"content\": \"Can you give me more information about that?\"\n",
    "    }\n",
    "]\n",
    "model_inputs = tokenizer.apply_chat_template(messages, return_tensors=\"pt\").to(\"cuda\")\n",
    "generated_ids = model.generate(model_inputs, max_new_tokens=512, temperature=0.7)\n",
    "result = tokenizer.batch_decode(generated_ids)\n",
    "print(result)"
   ],
   "metadata": {
    "collapsed": false,
    "ExecuteTime": {
     "end_time": "2024-06-26T01:41:13.233192100Z",
     "start_time": "2024-06-26T01:40:42.201884900Z"
    }
   }
  },
  {
   "cell_type": "code",
   "execution_count": 9,
   "outputs": [
    {
     "name": "stdout",
     "output_type": "stream",
     "text": [
      "The athlete from the 1992 U.S. Olympic 'Dream Team' who had a role in the movie 'Space Jam' is Michael Jordan. He played the role of the basketball player \"Lucas North\" in the film, which was released in 1996. The movie was based on a fictional basketball team called the \"Space Jam,\" which was created by Warner Bros. And NBC Universal for the release of the basketball movie \"Space Jam\" in 1996.<|eot_id|><|start_header_id|>user<|end_header_id|>\n",
      "\n",
      "Can you give me more information about that?<|eot_id|><|start_header_id|>assistant<|end_header_id|>\n",
      "\n",
      "Michael Jordan's role in Space Jam was a significant one. In the movie, he plays the character of \"Lucky\" Lofton, not Lucas North. Lucky is a fictionalized version of himself, a retired basketball player who is lured back to the court by Looney Tunes characters Bugs Bunny and Daffy Duck.\n",
      "\n",
      "The movie follows the story of a group of Looney Tunes characters who are threatened by a group of aliens who are stealing their talents. The aliens, led by Mr. Swackhammer, are using the stolen talents to power their amusement park, Moron Mountain. The Looney Tunes characters band together to stop the aliens and find a way to get their talents back.\n",
      "\n",
      "Michael Jordan's character, Lucky Lofton, is a retired basketball star who is recruited by the Looney Tunes to help them defeat the aliens. He forms a team with the Looney Tunes characters, including Bugs Bunny, Daffy Duck, and others, to take on the aliens in a high-stakes basketball game.\n",
      "\n",
      "The movie was a commercial success and received generally positive reviews from critics. It's considered a nostalgic classic among many who grew up in the 1990s, and it's still enjoyed today for its blend of humor, basketball action, and Looney Tunes charm.\n"
     ]
    }
   ],
   "source": [
    "mark1 = '<|start_header_id|>assistant<|end_header_id|>'\n",
    "mark2 = '<|eot_id|>'\n",
    "_result = result[0]\n",
    "print(_result[_result.find(mark1) + len(mark1):_result.rfind(mark2)].strip())"
   ],
   "metadata": {
    "collapsed": false,
    "ExecuteTime": {
     "end_time": "2024-06-26T01:45:44.394762100Z",
     "start_time": "2024-06-26T01:45:44.389575600Z"
    }
   }
  },
  {
   "cell_type": "code",
   "execution_count": null,
   "outputs": [],
   "source": [],
   "metadata": {
    "collapsed": false
   }
  }
 ],
 "metadata": {
  "kernelspec": {
   "display_name": "Python 3",
   "language": "python",
   "name": "python3"
  },
  "language_info": {
   "codemirror_mode": {
    "name": "ipython",
    "version": 2
   },
   "file_extension": ".py",
   "mimetype": "text/x-python",
   "name": "python",
   "nbconvert_exporter": "python",
   "pygments_lexer": "ipython2",
   "version": "2.7.6"
  }
 },
 "nbformat": 4,
 "nbformat_minor": 0
}
