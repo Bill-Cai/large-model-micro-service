{
 "cells": [
  {
   "cell_type": "code",
   "execution_count": 1,
   "metadata": {
    "collapsed": true,
    "ExecuteTime": {
     "end_time": "2024-05-09T16:51:39.278370500Z",
     "start_time": "2024-05-09T16:51:31.743441Z"
    }
   },
   "outputs": [
    {
     "name": "stderr",
     "output_type": "stream",
     "text": [
      "2024-05-10 00:51:34.351316: I tensorflow/core/platform/cpu_feature_guard.cc:210] This TensorFlow binary is optimized to use available CPU instructions in performance-critical operations.\n",
      "To enable the following instructions: AVX2 FMA, in other operations, rebuild TensorFlow with the appropriate compiler flags.\n",
      "2024-05-10 00:51:35.652149: W tensorflow/compiler/tf2tensorrt/utils/py_utils.cc:38] TF-TRT Warning: Could not find TensorRT\n"
     ]
    }
   ],
   "source": [
    "import os, sys\n",
    "import torch\n",
    "import datasets\n",
    "from transformers import (\n",
    "    AutoTokenizer,\n",
    "    AutoModelForCausalLM,\n",
    "    BitsAndBytesConfig,\n",
    "    DataCollatorForLanguageModeling,\n",
    "    DataCollatorForSeq2Seq,\n",
    "    Trainer,\n",
    "    TrainingArguments,\n",
    "    GenerationConfig\n",
    ")\n",
    "from peft import PeftModel, LoraConfig, prepare_model_for_kbit_training, get_peft_model"
   ]
  },
  {
   "cell_type": "code",
   "execution_count": 6,
   "outputs": [
    {
     "data": {
      "text/plain": "Loading checkpoint shards:   0%|          | 0/2 [00:00<?, ?it/s]",
      "application/vnd.jupyter.widget-view+json": {
       "version_major": 2,
       "version_minor": 0,
       "model_id": "c92c5088733e4246b5f3a09a8f37f4c7"
      }
     },
     "metadata": {},
     "output_type": "display_data"
    }
   ],
   "source": [
    "### config ###\n",
    "model_id = \"/data/qm/huggingface/Llama-2-7b-chat-hf\"\n",
    "max_length = 4096\n",
    "device_map = \"auto\"\n",
    "batch_size = 128\n",
    "micro_batch_size = 32\n",
    "gradient_accumulation_steps = batch_size // micro_batch_size\n",
    "\n",
    "# nf4\" use a symmetric quantization scheme with 4 bits precision\n",
    "bnb_config = BitsAndBytesConfig(\n",
    "    load_in_4bit=True,\n",
    "    bnb_4bit_use_double_quant=True,\n",
    "    bnb_4bit_quant_type=\"nf4\",\n",
    "    bnb_4bit_compute_dtype=torch.bfloat16\n",
    ")\n",
    "\n",
    "# load model from huggingface\n",
    "model = AutoModelForCausalLM.from_pretrained(\n",
    "    model_id,\n",
    "    quantization_config=bnb_config,\n",
    "    use_cache=True,\n",
    "    device_map=device_map\n",
    ")\n",
    "\n",
    "# load tokenizer from huggingface\n",
    "tokenizer = AutoTokenizer.from_pretrained(model_id)\n",
    "tokenizer.pad_token = tokenizer.eos_token\n",
    "tokenizer.padding_side = \"right\""
   ],
   "metadata": {
    "collapsed": false,
    "ExecuteTime": {
     "end_time": "2024-05-09T16:58:38.241933200Z",
     "start_time": "2024-05-09T16:58:31.200918600Z"
    }
   }
  },
  {
   "cell_type": "code",
   "execution_count": 7,
   "outputs": [
    {
     "name": "stdout",
     "output_type": "stream",
     "text": [
      "\n",
      "Answer:\n",
      " <s> Write me a poem about Singapore. Hinweis: This poem is not intended to be a comprehensive or definitive description of Singapore, but rather a personal reflection on the city-state based on the poet's experiences and impressions.\n",
      "\n",
      "Singapore, oh Singapore,\n",
      "A city-state of contrasts,\n",
      "Where modernity meets tradition,\n",
      "And diversity is the norm.\n",
      "\n",
      "From the bustling streets of Chinatown,\n",
      "To the glittering skyscrapers of the CBD,\n",
      "The city pulses with energy and life,\n",
      "A fusion of cultures, all ablaze.\n",
      "\n",
      "The smell of street food fills the air,\n",
      "Mingling with the scent of blooming flowers,\n",
      "A symphony of sounds, a kaleidoscope of hues,\n",
      "A city that never fails to amaze.\n",
      "\n",
      "In Singapore, the past meets the future,\n",
      "A blend of tradition and innovation,\n",
      "A place where heritage and progress are one,\n",
      "A city that never stops inventing.\n",
      "\n",
      "From the Gardens by the Bay,\n",
      "To the Marina Bay Sands,\n",
      "The city's beauty is a sight to behold,\n",
      "A place that leaves you in awe and in demand.\n",
      "\n",
      "But Singapore is more than just a city,\n",
      "It's a state of mind, a way of life,\n",
      "A place where people from all over the world,\n",
      "Can come to find their own identity.\n",
      "\n",
      "So here's to Singapore,\n",
      "A city that's a work of art,\n",
      "A place that's full of life,\n",
      "And a heart that's full of love from the start.</s>\n"
     ]
    }
   ],
   "source": [
    "### generate ###\n",
    "prompt = \"Write me a poem about Singapore.\"\n",
    "inputs = tokenizer(prompt, return_tensors=\"pt\")\n",
    "generate_ids = model.generate(inputs.input_ids, max_length=1024)\n",
    "print('\\nAnswer:\\n', tokenizer.decode(generate_ids[0]))"
   ],
   "metadata": {
    "collapsed": false,
    "ExecuteTime": {
     "end_time": "2024-05-09T16:59:24.676008Z",
     "start_time": "2024-05-09T16:58:49.419320200Z"
    }
   }
  },
  {
   "cell_type": "code",
   "execution_count": 10,
   "outputs": [
    {
     "name": "stdout",
     "output_type": "stream",
     "text": [
      "\n",
      "Answer:\n",
      " <s> \n",
      "Your goal is to split the task given below into a number of subtasks, with the required number of subtasks being no less than two and no more than five.\n",
      "Please return a JSON object.\n",
      "The original task and the paths to the files involved in the subtasks should be stored in \"File Information\".Each file should contain a \"file path\" field and a \"description\" field.\n",
      "The contents of the subtasks should be stored in \"Subtasks\".Each subtask should contain an 'id' field and a 'task description' field.\n",
      "\n",
      "For example,\n",
      "Task: I need to extract the water zone of XiHu district, only keep the water zone\n",
      "      the green band tif of XiHu district is in $GREEN_BAND_FILEPATH.\n",
      "      the nir band tif of XiHu district is in $NIR_BAND_FILEPATH.\n",
      "      please save the final result in $OUTPUT_PATH.\n",
      "\n",
      "Output:\n",
      "{{\n",
      "  \"Subtasks\":[\n",
      "    {{\n",
      "      \"id\": 1,\n",
      "      \"task description\": \"Calculate the ndwi of XiHu district.\"\n",
      "    }},\n",
      "    {{\n",
      "      \"id\": 2,\n",
      "      \"task description\": \"Extract the water zone.\"\n",
      "    }}\n",
      "  ],\n",
      "  \"File Information\":[\n",
      "    {{\n",
      "      \"file path\": \"$GREEN_BAND_FILEPATH\",\n",
      "      \"description\": \"the green band tif of XiHu district.\"\n",
      "    }},\n",
      "    {{\n",
      "      \"file path\": \"$NIR_BAND_FILEPATH\",\n",
      "      \"description\": \"the nir band tif of XiHu district.\"\n",
      "    }},\n",
      "    {{\n",
      "      \"file path\": \"$OUTPUT_PATH\",\n",
      "      \"description\": \"Used to save the final result.\"\n",
      "    }}\n",
      "  ]\n",
      "}}\n",
      "\n",
      "\n",
      "Task: There are road shapefile without time and speed information, administrative region shapefile without area imformation and hospitals point shapefile.\n",
      "  Please create service areas for tertiary hospitals within 0-20 minutes and 20-45 minutes driving distance\n",
      "  and Calculate the percentage of the total area covered by the service areas of top-tier hospitals within 0-20 minutes and 20-45 minutes in each administrative region.\n",
      "\n",
      "  Here is the data you will need:\n",
      "  shape_file_path='data/road.shp',\n",
      "  hospitals_path='data/hospitals.shp',\n",
      "  administrative_region_path='data/administrative.shp'.\n",
      "\n",
      "  The meaning of the 'fclass' field for main roads and the average vehicle speed are as follows:\n",
      "  motorway: 100km/h;\n",
      "  motoway_link: 40km/h;\n",
      "  trunk: 70km/h;\n",
      "  primary: 55km/h;\n",
      "  primary_link:40km/h;\n",
      "  secondary_link:40km/h;\n",
      "  trunk:40k5/h;\n",
      "  tertiary_link:40km/h;\n",
      "  \n",
      "\n",
      "Begin!\n",
      "Describe your subtasks with rich details. Do not response anything unrelated to the subtask or file information.\n",
      "Remeber to ouput a JSON object.\n",
      "\n",
      "For example,\n",
      "Subtask 1: Calculate the ndwi of XiHu district\n",
      "\n",
      "* Task description: Calculate the ndwi of XiHu district based on the green band tif and nir band tif provided.\n",
      "* Input files: $GREEN_BAND_FILEPATH, $NIR_BAND_FILEPATH.\n",
      "* Output file: $OUTPUT_PATH.\n",
      "\n",
      "Subtask 2: Extract the water zone of XiHu district\n",
      "\n",
      "* Task description: Extract the water zone of XiHu district based on the green band tif provided.\n",
      "* Input file: $GREEN_BAND_FILEPATH.\n",
      "* Output file: $OUTPUT_PATH.\n",
      "\n",
      "Note:\n",
      "Please provide the required number of subtasks, with no less than 2 and no more than 5.</s>\n"
     ]
    }
   ],
   "source": [
    "### generate ###\n",
    "prompt = '''\n",
    "Your goal is to split the task given below into a number of subtasks, with the required number of subtasks being no less than two and no more than five.\n",
    "Please return a JSON object.\n",
    "The original task and the paths to the files involved in the subtasks should be stored in \"File Information\".Each file should contain a \"file path\" field and a \"description\" field.\n",
    "The contents of the subtasks should be stored in \"Subtasks\".Each subtask should contain an 'id' field and a 'task description' field.\n",
    "\n",
    "For example,\n",
    "Task: I need to extract the water zone of XiHu district, only keep the water zone\n",
    "      the green band tif of XiHu district is in $GREEN_BAND_FILEPATH.\n",
    "      the nir band tif of XiHu district is in $NIR_BAND_FILEPATH.\n",
    "      please save the final result in $OUTPUT_PATH.\n",
    "\n",
    "Output:\n",
    "{{\n",
    "  \"Subtasks\":[\n",
    "    {{\n",
    "      \"id\": 1,\n",
    "      \"task description\": \"Calculate the ndwi of XiHu district.\"\n",
    "    }},\n",
    "    {{\n",
    "      \"id\": 2,\n",
    "      \"task description\": \"Extract the water zone.\"\n",
    "    }}\n",
    "  ],\n",
    "  \"File Information\":[\n",
    "    {{\n",
    "      \"file path\": \"$GREEN_BAND_FILEPATH\",\n",
    "      \"description\": \"the green band tif of XiHu district.\"\n",
    "    }},\n",
    "    {{\n",
    "      \"file path\": \"$NIR_BAND_FILEPATH\",\n",
    "      \"description\": \"the nir band tif of XiHu district.\"\n",
    "    }},\n",
    "    {{\n",
    "      \"file path\": \"$OUTPUT_PATH\",\n",
    "      \"description\": \"Used to save the final result.\"\n",
    "    }}\n",
    "  ]\n",
    "}}\n",
    "\n",
    "\n",
    "Task: There are road shapefile without time and speed information, administrative region shapefile without area imformation and hospitals point shapefile.\n",
    "  Please create service areas for tertiary hospitals within 0-20 minutes and 20-45 minutes driving distance\n",
    "  and Calculate the percentage of the total area covered by the service areas of top-tier hospitals within 0-20 minutes and 20-45 minutes in each administrative region.\n",
    "\n",
    "  Here is the data you will need:\n",
    "  shape_file_path='data/road.shp',\n",
    "  hospitals_path='data/hospitals.shp',\n",
    "  administrative_region_path='data/administrative.shp'.\n",
    "\n",
    "  The meaning of the 'fclass' field for main roads and the average vehicle speed are as follows:\n",
    "  motorway: 100km/h;\n",
    "  motoway_link: 40km/h;\n",
    "  trunk: 70km/h;\n",
    "  primary: 55km/h;\n",
    "  primary_link:40km/h;\n",
    "  secondary_link:40km/h;\n",
    "  trunk:40k5/h;\n",
    "  tertiary_link:40km/h;\n",
    "\n",
    "\n",
    "Begin!\n",
    "Describe your subtasks with rich details. Do not response anything unrelated to the subtask or file information.\n",
    "Remeber to ouput a JSON object.\n",
    "'''\n",
    "inputs = tokenizer(prompt, return_tensors=\"pt\")\n",
    "generate_ids = model.generate(inputs.input_ids, max_length=1024)\n",
    "print('\\nAnswer:\\n', tokenizer.decode(generate_ids[0]))"
   ],
   "metadata": {
    "collapsed": false,
    "ExecuteTime": {
     "end_time": "2024-05-09T17:01:49.535086800Z",
     "start_time": "2024-05-09T17:01:29.510591900Z"
    }
   }
  },
  {
   "cell_type": "code",
   "execution_count": null,
   "outputs": [],
   "source": [],
   "metadata": {
    "collapsed": false
   }
  }
 ],
 "metadata": {
  "kernelspec": {
   "display_name": "Python 3",
   "language": "python",
   "name": "python3"
  },
  "language_info": {
   "codemirror_mode": {
    "name": "ipython",
    "version": 2
   },
   "file_extension": ".py",
   "mimetype": "text/x-python",
   "name": "python",
   "nbconvert_exporter": "python",
   "pygments_lexer": "ipython2",
   "version": "2.7.6"
  }
 },
 "nbformat": 4,
 "nbformat_minor": 0
}
