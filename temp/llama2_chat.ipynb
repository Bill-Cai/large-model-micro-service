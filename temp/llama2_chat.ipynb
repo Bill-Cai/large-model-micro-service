{
 "cells": [
  {
   "cell_type": "code",
   "execution_count": 1,
   "metadata": {
    "collapsed": true
   },
   "outputs": [
    {
     "name": "stderr",
     "output_type": "stream",
     "text": [
      "2024-05-10 15:25:27.198961: I tensorflow/core/platform/cpu_feature_guard.cc:210] This TensorFlow binary is optimized to use available CPU instructions in performance-critical operations.\n",
      "To enable the following instructions: AVX2 FMA, in other operations, rebuild TensorFlow with the appropriate compiler flags.\n",
      "2024-05-10 15:25:28.184829: W tensorflow/compiler/tf2tensorrt/utils/py_utils.cc:38] TF-TRT Warning: Could not find TensorRT\n"
     ]
    }
   ],
   "source": [
    "import os, sys\n",
    "import torch\n",
    "import datasets\n",
    "from transformers import (\n",
    "    AutoTokenizer,\n",
    "    AutoModelForCausalLM,\n",
    "    BitsAndBytesConfig,\n",
    "    DataCollatorForLanguageModeling,\n",
    "    DataCollatorForSeq2Seq,\n",
    "    Trainer,\n",
    "    TrainingArguments,\n",
    "    GenerationConfig\n",
    ")\n",
    "from peft import PeftModel, LoraConfig, prepare_model_for_kbit_training, get_peft_model"
   ]
  },
  {
   "cell_type": "code",
   "execution_count": 2,
   "outputs": [
    {
     "data": {
      "text/plain": "Loading checkpoint shards:   0%|          | 0/2 [00:00<?, ?it/s]",
      "application/vnd.jupyter.widget-view+json": {
       "version_major": 2,
       "version_minor": 0,
       "model_id": "067b08df05ef4e798372550faba8ebff"
      }
     },
     "metadata": {},
     "output_type": "display_data"
    }
   ],
   "source": [
    "### config ###\n",
    "model_id = \"/data/qm/huggingface/Llama-2-7b-chat-hf\"\n",
    "max_length = 4096\n",
    "device_map = \"auto\"\n",
    "batch_size = 128\n",
    "micro_batch_size = 32\n",
    "gradient_accumulation_steps = batch_size // micro_batch_size\n",
    "\n",
    "# nf4\" use a symmetric quantization scheme with 4 bits precision\n",
    "bnb_config = BitsAndBytesConfig(\n",
    "    load_in_4bit=True,\n",
    "    bnb_4bit_use_double_quant=True,\n",
    "    bnb_4bit_quant_type=\"nf4\",\n",
    "    bnb_4bit_compute_dtype=torch.bfloat16\n",
    ")\n",
    "\n",
    "# load model from huggingface\n",
    "model = AutoModelForCausalLM.from_pretrained(\n",
    "    model_id,\n",
    "    quantization_config=bnb_config,\n",
    "    use_cache=True,\n",
    "    device_map=device_map\n",
    ")\n",
    "\n",
    "# load tokenizer from huggingface\n",
    "tokenizer = AutoTokenizer.from_pretrained(model_id)\n",
    "tokenizer.pad_token = tokenizer.eos_token\n",
    "tokenizer.padding_side = \"right\""
   ],
   "metadata": {
    "collapsed": false,
    "ExecuteTime": {
     "end_time": "2024-05-10T07:25:39.042211900Z",
     "start_time": "2024-05-10T07:25:31.616593800Z"
    }
   }
  },
  {
   "cell_type": "code",
   "execution_count": 3,
   "outputs": [
    {
     "data": {
      "text/plain": "'cuda'"
     },
     "execution_count": 3,
     "metadata": {},
     "output_type": "execute_result"
    }
   ],
   "source": [
    "model.device.type"
   ],
   "metadata": {
    "collapsed": false,
    "ExecuteTime": {
     "end_time": "2024-05-10T07:25:39.051220200Z",
     "start_time": "2024-05-10T07:25:39.050223800Z"
    }
   }
  },
  {
   "cell_type": "code",
   "execution_count": 9,
   "outputs": [
    {
     "name": "stdout",
     "output_type": "stream",
     "text": [
      "['<s> [INST] <<SYS>>\\nYou are a friendly chatbot, always able to provide friendly and helpful answers.\\n<</SYS>>\\n\\nWhat athlete from the 1992 U.S. Olympic \\'Dream Team\\' had a role in the movie \\'Space Jam\\'? [/INST] The athlete from the 1992 U.S. Olympic \\'Dream Team\\' who had a role in the movie \\'Space Jam\\' is Michael Jordan. He played the role of the basketball player \"Lucas North\" in the film, which was released in 1996. The movie was based on a fictional basketball team called the \"Space Jam,\" which was created by Warner Bros. And NBC Universal for the release of the basketball movie \"Space Jam\" in 1996. </s><s> [INST] Can you give me more information about that? [/INST] Of course! The 1992 U.S. Olympic \"Dream Team\" was a men\\'s basketball team that represented the United States at the 1992 Summer Olympics in Barcelona, Spain. The team was composed of some of the best professional basketball players in the world at the time, including Michael Jordan, Magic Johnson, Larry Bird, and Charles Barkley, among others.\\n\\nThe team was led by coach Chuck Daly and was widely regarded as one of the greatest basketball teams of all time. They dominated their opponents in the tournament, winning all eight of their games by an average of 36 points. The team\\'s victory in Barcelona marked the first time that the United States had won an Olympic gold medal in men\\'s basketball.\\n\\nAs for the movie \"Space Jam,\" it was released in 1996 and starred Michael Jordan as a basketball player who is recruited by a group of Looney Tunes characters to play in a basketball game against a group of malicious aliens. The movie was a commercial success and is considered a cult classic. It was directed by Joe Pytka and also starred Wayne Knight, Theresa Randle, and Bill Murray.</s>']\n"
     ]
    }
   ],
   "source": [
    "messages = [\n",
    "    {\n",
    "        \"role\": \"system\",\n",
    "        \"content\": \"You are a friendly chatbot, always able to provide friendly and helpful answers.\"\n",
    "    },\n",
    "    {\n",
    "        \"role\": \"user\",\n",
    "        \"content\": \"What athlete from the 1992 U.S. Olympic 'Dream Team' had a role in the movie 'Space Jam'?\"\n",
    "    },\n",
    "    {\n",
    "        \"role\": \"assistant\",\n",
    "        \"content\": \"The athlete from the 1992 U.S. Olympic 'Dream Team' who had a role in the movie 'Space Jam' is Michael Jordan. He played the role of the basketball player \\\"Lucas North\\\" in the film, which was released in 1996. The movie was based on a fictional basketball team called the \\\"Space Jam,\\\" which was created by Warner Bros. And NBC Universal for the release of the basketball movie \\\"Space Jam\\\" in 1996.\"\n",
    "    },\n",
    "    {\n",
    "        \"role\": \"user\",\n",
    "        \"content\": \"Can you give me more information about that?\"\n",
    "    }\n",
    "]\n",
    "model_inputs = tokenizer.apply_chat_template(messages, return_tensors=\"pt\").to(\"cuda\")\n",
    "generated_ids = model.generate(model_inputs, max_new_tokens=512, temperature=0.7)\n",
    "result = tokenizer.batch_decode(generated_ids)\n",
    "print(result)"
   ],
   "metadata": {
    "collapsed": false,
    "ExecuteTime": {
     "end_time": "2024-05-10T07:34:25.781867200Z",
     "start_time": "2024-05-10T07:33:58.317252Z"
    }
   }
  },
  {
   "cell_type": "code",
   "execution_count": 5,
   "outputs": [
    {
     "name": "stdout",
     "output_type": "stream",
     "text": [
      "\n",
      "Answer:\n",
      " <s> Write me a poem about Singapore. Hinweis: I will provide the poem with the theme of \"Singapore\" and you will write a poem based on that theme.\n",
      "\n",
      "Title: The Lion City's Pride\n",
      "\n",
      "Singapore, a land of contrasts,\n",
      "Where East meets West in vibrant hues.\n",
      "From bustling streets to quiet retreats,\n",
      "The Lion City's charm never loses its zest.\n",
      "\n",
      "From Gardens by the Bay to Chinatown\n"
     ]
    }
   ],
   "source": [
    "### generate ###\n",
    "prompt = \"Write me a poem about Singapore.\"\n",
    "inputs = tokenizer(prompt, return_tensors=\"pt\").to(\"cuda\")\n",
    "generate_ids = model.generate(inputs.input_ids, max_new_tokens=100, do_sample=True,\n",
    "                              temperature=0.7, top_k=50,\n",
    "                              top_p=0.95)\n",
    "print('\\nAnswer:\\n', tokenizer.decode(generate_ids[0]))"
   ],
   "metadata": {
    "collapsed": false,
    "ExecuteTime": {
     "end_time": "2024-05-10T07:07:20.531125100Z",
     "start_time": "2024-05-10T07:07:09.019402200Z"
    }
   }
  },
  {
   "cell_type": "code",
   "execution_count": 10,
   "outputs": [
    {
     "name": "stdout",
     "output_type": "stream",
     "text": [
      "\n",
      "Answer:\n",
      " <s> \n",
      "Your goal is to split the task given below into a number of subtasks, with the required number of subtasks being no less than two and no more than five.\n",
      "Please return a JSON object.\n",
      "The original task and the paths to the files involved in the subtasks should be stored in \"File Information\".Each file should contain a \"file path\" field and a \"description\" field.\n",
      "The contents of the subtasks should be stored in \"Subtasks\".Each subtask should contain an 'id' field and a 'task description' field.\n",
      "\n",
      "For example,\n",
      "Task: I need to extract the water zone of XiHu district, only keep the water zone\n",
      "      the green band tif of XiHu district is in $GREEN_BAND_FILEPATH.\n",
      "      the nir band tif of XiHu district is in $NIR_BAND_FILEPATH.\n",
      "      please save the final result in $OUTPUT_PATH.\n",
      "\n",
      "Output:\n",
      "{{\n",
      "  \"Subtasks\":[\n",
      "    {{\n",
      "      \"id\": 1,\n",
      "      \"task description\": \"Calculate the ndwi of XiHu district.\"\n",
      "    }},\n",
      "    {{\n",
      "      \"id\": 2,\n",
      "      \"task description\": \"Extract the water zone.\"\n",
      "    }}\n",
      "  ],\n",
      "  \"File Information\":[\n",
      "    {{\n",
      "      \"file path\": \"$GREEN_BAND_FILEPATH\",\n",
      "      \"description\": \"the green band tif of XiHu district.\"\n",
      "    }},\n",
      "    {{\n",
      "      \"file path\": \"$NIR_BAND_FILEPATH\",\n",
      "      \"description\": \"the nir band tif of XiHu district.\"\n",
      "    }},\n",
      "    {{\n",
      "      \"file path\": \"$OUTPUT_PATH\",\n",
      "      \"description\": \"Used to save the final result.\"\n",
      "    }}\n",
      "  ]\n",
      "}}\n",
      "\n",
      "\n",
      "Task: There are road shapefile without time and speed information, administrative region shapefile without area imformation and hospitals point shapefile.\n",
      "  Please create service areas for tertiary hospitals within 0-20 minutes and 20-45 minutes driving distance\n",
      "  and Calculate the percentage of the total area covered by the service areas of top-tier hospitals within 0-20 minutes and 20-45 minutes in each administrative region.\n",
      "\n",
      "  Here is the data you will need:\n",
      "  shape_file_path='data/road.shp',\n",
      "  hospitals_path='data/hospitals.shp',\n",
      "  administrative_region_path='data/administrative.shp'.\n",
      "\n",
      "  The meaning of the 'fclass' field for main roads and the average vehicle speed are as follows:\n",
      "  motorway: 100km/h;\n",
      "  motoway_link: 40km/h;\n",
      "  trunk: 70km/h;\n",
      "  primary: 55km/h;\n",
      "  primary_link:40km/h;\n",
      "  secondary_link:40km/h;\n",
      "  trunk:40k5/h;\n",
      "  tertiary_link:40km/h;\n",
      "  \n",
      "\n",
      "Begin!\n",
      "Describe your subtasks with rich details. Do not response anything unrelated to the subtask or file information.\n",
      "Remeber to ouput a JSON object.\n",
      "\n",
      "For example,\n",
      "Subtask 1: Calculate the ndwi of XiHu district\n",
      "\n",
      "* Task description: Calculate the ndwi of XiHu district based on the green band tif and nir band tif provided.\n",
      "* Input files: $GREEN_BAND_FILEPATH, $NIR_BAND_FILEPATH.\n",
      "* Output file: $OUTPUT_PATH.\n",
      "\n",
      "Subtask 2: Extract the water zone of XiHu district\n",
      "\n",
      "* Task description: Extract the water zone of XiHu district based on the green band tif provided.\n",
      "* Input file: $GREEN_BAND_FILEPATH.\n",
      "* Output file: $OUTPUT_PATH.\n",
      "\n",
      "Note:\n",
      "Please provide the required number of subtasks, with no less than 2 and no more than 5.</s>\n"
     ]
    }
   ],
   "source": [
    "### generate ###\n",
    "prompt = '''\n",
    "Your goal is to split the task given below into a number of subtasks, with the required number of subtasks being no less than two and no more than five.\n",
    "Please return a JSON object.\n",
    "The original task and the paths to the files involved in the subtasks should be stored in \"File Information\".Each file should contain a \"file path\" field and a \"description\" field.\n",
    "The contents of the subtasks should be stored in \"Subtasks\".Each subtask should contain an 'id' field and a 'task description' field.\n",
    "\n",
    "For example,\n",
    "Task: I need to extract the water zone of XiHu district, only keep the water zone\n",
    "      the green band tif of XiHu district is in $GREEN_BAND_FILEPATH.\n",
    "      the nir band tif of XiHu district is in $NIR_BAND_FILEPATH.\n",
    "      please save the final result in $OUTPUT_PATH.\n",
    "\n",
    "Output:\n",
    "{{\n",
    "  \"Subtasks\":[\n",
    "    {{\n",
    "      \"id\": 1,\n",
    "      \"task description\": \"Calculate the ndwi of XiHu district.\"\n",
    "    }},\n",
    "    {{\n",
    "      \"id\": 2,\n",
    "      \"task description\": \"Extract the water zone.\"\n",
    "    }}\n",
    "  ],\n",
    "  \"File Information\":[\n",
    "    {{\n",
    "      \"file path\": \"$GREEN_BAND_FILEPATH\",\n",
    "      \"description\": \"the green band tif of XiHu district.\"\n",
    "    }},\n",
    "    {{\n",
    "      \"file path\": \"$NIR_BAND_FILEPATH\",\n",
    "      \"description\": \"the nir band tif of XiHu district.\"\n",
    "    }},\n",
    "    {{\n",
    "      \"file path\": \"$OUTPUT_PATH\",\n",
    "      \"description\": \"Used to save the final result.\"\n",
    "    }}\n",
    "  ]\n",
    "}}\n",
    "\n",
    "\n",
    "Task: There are road shapefile without time and speed information, administrative region shapefile without area imformation and hospitals point shapefile.\n",
    "  Please create service areas for tertiary hospitals within 0-20 minutes and 20-45 minutes driving distance\n",
    "  and Calculate the percentage of the total area covered by the service areas of top-tier hospitals within 0-20 minutes and 20-45 minutes in each administrative region.\n",
    "\n",
    "  Here is the data you will need:\n",
    "  shape_file_path='data/road.shp',\n",
    "  hospitals_path='data/hospitals.shp',\n",
    "  administrative_region_path='data/administrative.shp'.\n",
    "\n",
    "  The meaning of the 'fclass' field for main roads and the average vehicle speed are as follows:\n",
    "  motorway: 100km/h;\n",
    "  motoway_link: 40km/h;\n",
    "  trunk: 70km/h;\n",
    "  primary: 55km/h;\n",
    "  primary_link:40km/h;\n",
    "  secondary_link:40km/h;\n",
    "  trunk:40k5/h;\n",
    "  tertiary_link:40km/h;\n",
    "\n",
    "\n",
    "Begin!\n",
    "Describe your subtasks with rich details. Do not response anything unrelated to the subtask or file information.\n",
    "Remeber to ouput a JSON object.\n",
    "'''\n",
    "inputs = tokenizer(prompt, return_tensors=\"pt\")\n",
    "generate_ids = model.generate(inputs.input_ids, max_length=1024)\n",
    "print('\\nAnswer:\\n', tokenizer.decode(generate_ids[0]))"
   ],
   "metadata": {
    "collapsed": false,
    "ExecuteTime": {
     "end_time": "2024-05-09T17:01:49.535086800Z",
     "start_time": "2024-05-09T17:01:29.510591900Z"
    }
   }
  },
  {
   "cell_type": "code",
   "execution_count": null,
   "outputs": [],
   "source": [],
   "metadata": {
    "collapsed": false
   }
  }
 ],
 "metadata": {
  "kernelspec": {
   "display_name": "Python 3",
   "language": "python",
   "name": "python3"
  },
  "language_info": {
   "codemirror_mode": {
    "name": "ipython",
    "version": 2
   },
   "file_extension": ".py",
   "mimetype": "text/x-python",
   "name": "python",
   "nbconvert_exporter": "python",
   "pygments_lexer": "ipython2",
   "version": "2.7.6"
  }
 },
 "nbformat": 4,
 "nbformat_minor": 0
}
